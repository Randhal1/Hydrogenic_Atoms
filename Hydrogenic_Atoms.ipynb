{
 "cells": [
  {
   "cell_type": "markdown",
   "metadata": {},
   "source": [
    "# Hydogenic atoms\r\n",
    "### by Randhal Ramirez (randhal45@gmail.com)\r\n",
    "\r\n",
    "# Calculating the wavefunction of any hydrogenic atom:\r\n",
    "\r\n",
    "## $-\\frac{\\hbar}{2 \\mu} \\nabla^2 \\psi_{nlm} - \\frac{Ze^2}{4\\pi \\epsilon_0 r} \\psi_{nlm} = E_n \\psi_{nlm}$\r\n",
    "\r\n",
    "## Solving this Differential Equation:\r\n",
    "\r\n",
    "## $\\psi_{nlm}=c_1 \\exp \\left[ \\sqrt{-\\frac{\\hbar}{2 \\mu E_n}-\\frac{Ze^2}{4 \\pi \\epsilon_0 r E_n}} \\right]+c_2 \\exp \\left[ -\\sqrt{-\\frac{\\hbar}{2 \\mu E_n}-\\frac{Ze^2}{4 \\pi \\epsilon_0 r E_n}} \\right]$\r\n",
    "\r\n",
    "# For especific n,l,m values this equation is often used:\r\n",
    "\r\n",
    "## $\\psi_{nlm}=R_{nl}(r) \\times Y_m^l(\\theta,\\phi)$\r\n",
    "\r\n",
    "## $R_{nl}(r) = \\left[ \\frac{(n-l-1)!}{2n(n+l)!} \\right]^\\frac{1}{2} \\left( \\frac{2}{an} \\right)^\\frac{3}{2}x^l e^{-\\frac{x}{2}} L_{n-l-1}^{2l+1}(x)$\r\n",
    "\r\n",
    "## $Y_{lm}(\\theta,\\phi)=(-1)^m \\left[ \\frac{2l+1}{4 \\pi} \\frac{(l-m)!}{(l+m)!} \\right]^\\frac{1}{2} P_l^m(cos \\theta) e^{im \\phi}$\r\n",
    "\r\n",
    "## $L_{n-l-1}^{2l+1}(x)= \\displaystyle \\sum_{k=0}^{n-l-1} \\frac{ (l+n)! (-x)^k }{ (2l+1+k)! (n-l-1-k)! k!}$\r\n",
    "\r\n",
    "## $P_l^{-m}(x)=(-1)^m\\frac{(l-m)!}{(l+m)!} P_l^m(x)$\r\n",
    "\r\n",
    "## $P_l^m(x)=(1-x^2)^\\frac{m}{2} \\frac{d^m}{dx^m} P_l(x)$ for $l \\geq m \\geq 0$\r\n",
    "\r\n",
    "## $P_l(x)=\\frac{1}{2^l \\cdot l!} \\frac{d^l}{dx^l}(x^2-1)^l$ \r\n",
    "\r\n",
    "## $x=\\frac{2r}{na}$\r\n",
    "\r\n",
    "## $a=\\frac{m_e}{\\mu} \\frac{a_0}{Z} \\approx \\frac{a_0}{Z}$\r\n",
    "\r\n",
    "## $\\mu=\\frac{m_e m_Z}{m_e + m_Z}$"
   ]
  },
  {
   "cell_type": "code",
   "execution_count": 1,
   "metadata": {},
   "outputs": [],
   "source": [
    "from sympy import Sum, oo, symbols, cos, Indexed, lambdify, diff, pi, factorial, exp, plot, integrate\n",
    "import numpy as np\n",
    "import scipy.constants as kn\n",
    "from scipy.constants import physical_constants as pkn \n",
    "from scipy.constants import find # Just for find constants info at: scipy.org/scipy.constants.find\n",
    "import matplotlib.pyplot as plt "
   ]
  },
  {
   "cell_type": "code",
   "execution_count": 2,
   "metadata": {},
   "outputs": [
    {
     "data": {
      "text/plain": "\"\\n#Z=input('Enter Z: ')\\nN=int(input('Enter n: '))\\nL=int(input('Enter l: '))\\nM=int(input('Enter m: '))\\nTheta=int(input('Enter zenith angle: '))\\nPhi=int(input('Enter azimuth angle: '))\\nR=int(input('Enter r: '))\\n#print(Z,n,l,m)\\n\""
     },
     "execution_count": 2,
     "metadata": {},
     "output_type": "execute_result"
    }
   ],
   "source": [
    "# Input by user \n",
    "'''\n",
    "#Z=input('Enter Z: ')\n",
    "N=int(input('Enter n: '))\n",
    "L=int(input('Enter l: '))\n",
    "M=int(input('Enter m: '))\n",
    "Theta=int(input('Enter zenith angle: '))\n",
    "Phi=int(input('Enter azimuth angle: '))\n",
    "R=int(input('Enter r: '))\n",
    "#print(Z,n,l,m)\n",
    "'''"
   ]
  },
  {
   "cell_type": "code",
   "execution_count": 52,
   "metadata": {},
   "outputs": [],
   "source": [
    "# Definitions level 1\r\n",
    "\r\n",
    "a0=pkn['Bohr radius'][0] # Bohr radius\r\n",
    "\r\n",
    "a, r, theta, phi, x, k, psi = symbols('a r theta phi x k psi')\r\n",
    "\r\n",
    "# Definitions level 2\r\n",
    "\r\n",
    "# Creating P_l(x)  corresponding to Legendre Polynomials in the Rodrigues' form \r\n",
    "def Plx(l,x):\r\n",
    "    return 1/(2**l*factorial(l))*diff((x**2-1)**l,x,l)\r\n",
    "\r\n",
    "# Tested with page 47 of the Cambridge formulas book # It works\r\n",
    "\r\n",
    "# Creating P_l^m(x) corresponding to Associated Legendre functions\r\n",
    "def Plmx_possitive_part(l,m,x,theta):\r\n",
    "    return ((-1)**m*(1-x**2)**(m/2)*diff(Plx(l,x),x,m)).subs(x,cos(theta))\r\n",
    "\r\n",
    "def Plmx(l,m,x,theta):\r\n",
    "    if m>=0:\r\n",
    "        return Plmx_possitive_part(l,m,x,theta)\r\n",
    "    if m<0:\r\n",
    "        return (-1)**m*Plmx_possitive_part(l,abs(m),x,theta)\r\n",
    "\r\n",
    "# Tested with page 48 of the Cambridge formulas book # It works\r\n",
    "\r\n",
    "# Creating L_a^b corresponding to Laguerre polynomials\r\n",
    "def Lab(n,l):\r\n",
    "    return Sum(factorial(l+n)*(-x)**k/(factorial(2*l+1+k)),(k,0,n-l-1)).doit()"
   ]
  },
  {
   "cell_type": "code",
   "execution_count": 58,
   "metadata": {},
   "outputs": [
    {
     "data": {
      "text/latex": "$\\displaystyle x^{2} - 3 x + 6$",
      "text/plain": "x**2 - 3*x + 6"
     },
     "execution_count": 58,
     "metadata": {},
     "output_type": "execute_result"
    }
   ],
   "source": [
    "Lab(3,0)"
   ]
  },
  {
   "cell_type": "code",
   "execution_count": 60,
   "metadata": {},
   "outputs": [],
   "source": [
    "# Definitions level 3 \r\n",
    "\r\n",
    "# Creating Y_l^m(theta,phi), corresponding to the total angular contribution in the wavefunction\r\n",
    "def Ylm_theta_phi(l,m,x,theta,phi):\r\n",
    "    return ((2*l+1)/(4*pi)*factorial(l-abs(m))/factorial(l+abs(m)))**(1/2)*Plmx(l,m,x,theta)*exp(1j*m*phi)\r\n",
    "\r\n",
    "# Tested with page 49 of the Cambridge formulas book # It works\r\n",
    "\r\n",
    "# Creating R_{nl}(r), being the total radial contribution in the wavefunction\r\n",
    "def Rnlr(n,l,x):\r\n",
    "    return (factorial(n-l-1)/(2*n*factorial(n+l)))**(1/2)*(2/(a*n))**(3/2)*x**l*exp(-x/2)*Lab(n,l)\r\n",
    "\r\n",
    "# Tested using pages 49 and 96 and extracting the product # It works \r\n",
    "\r\n",
    "# Definitions level 4 \r\n",
    "\r\n",
    "# The next function correspond to the whole wavefunction \r\n",
    "def psi_nlm_theta_phi(n,l,m,x,theta,phi):\r\n",
    "    return Rnlr(n,l,x).subs(x,2*r/(n*a))*Ylm_theta_phi(l,m,x,theta,phi)\r\n",
    "\r\n",
    "def Psi(n,l,m):\r\n",
    "    return psi_nlm_theta_phi(n,l,m,x,theta,phi)\r\n",
    "\r\n",
    "# Tested with page 96 of the Cambridge formulas book # It works \r\n",
    "### Issue 1: Fails for n=3 corrected ver 0.0.1"
   ]
  },
  {
   "cell_type": "code",
   "execution_count": 57,
   "metadata": {},
   "outputs": [
    {
     "data": {
      "text/latex": "$\\displaystyle x^{2} - 3 x + 6$",
      "text/plain": "x**2 - 3*x + 6"
     },
     "execution_count": 57,
     "metadata": {},
     "output_type": "execute_result"
    }
   ],
   "source": [
    "Lab(3,0)"
   ]
  },
  {
   "cell_type": "code",
   "execution_count": 61,
   "metadata": {},
   "outputs": [
    {
     "data": {
      "text/latex": "$\\displaystyle \\frac{0.03125 r \\left(24 - \\frac{6 r}{a} + \\frac{r^{2}}{a^{2}} - \\frac{r^{3}}{8 a^{3}}\\right) \\left(\\frac{1}{a}\\right)^{1.5} e^{- \\frac{r}{4 a}}}{\\pi^{0.5}}$",
      "text/plain": "0.03125*pi**(-0.5)*r*(24 - 6*r/a + r**2/a**2 - r**3/(8*a**3))*(1/a)**1.5*exp(-r/(4*a))"
     },
     "execution_count": 61,
     "metadata": {},
     "output_type": "execute_result"
    }
   ],
   "source": [
    "psi_1=r*Psi(4,0,0)\r\n",
    "psi=lambdify([r,a],psi_1,'numpy')\r\n",
    "psi_1"
   ]
  },
  {
   "cell_type": "code",
   "execution_count": 64,
   "metadata": {},
   "outputs": [],
   "source": [
    "rx=np.linspace(0,a0*100,1000)\r\n",
    "psi_y=psi(rx,aa)"
   ]
  },
  {
   "cell_type": "code",
   "execution_count": 65,
   "metadata": {},
   "outputs": [
    {
     "data": {
      "text/plain": "(0.0, 57494827656.26133)"
     },
     "execution_count": 65,
     "metadata": {},
     "output_type": "execute_result"
    },
    {
     "data": {
      "image/png": "[encoded data removed]",
      "text/plain": "<Figure size 720x504 with 1 Axes>"
     },
     "metadata": {
      "needs_background": "light"
     },
     "output_type": "display_data"
    }
   ],
   "source": [
    "fig=plt.figure(figsize=[10,7])\r\n",
    "ax=fig.gca()\r\n",
    "#ax.plot(rx,psi_y)\r\n",
    "ax.plot(rx,psi_y**2)\r\n",
    "plt.ylim(0,max(psi_y**2)*1.02)"
   ]
  },
  {
   "cell_type": "code",
   "execution_count": 26,
   "metadata": {},
   "outputs": [
    {
     "data": {
      "text/plain": "287176787.08936214"
     },
     "execution_count": 26,
     "metadata": {},
     "output_type": "execute_result"
    }
   ],
   "source": [
    "np.max(psi_y**2)"
   ]
  },
  {
   "cell_type": "code",
   "execution_count": null,
   "metadata": {},
   "outputs": [],
   "source": []
  }
 ],
 "metadata": {
  "kernelspec": {
   "display_name": "Python 3.8.5 64-bit ('base': conda)",
   "name": "python385jvsc74a57bd0f4a7967c3e0c00721ad4880dddf095fea1ad874a4e0560932aa1eea35cfa5fe6"
  },
  "language_info": {
   "name": "python",
   "version": ""
  },
  "orig_nbformat": 2
 },
 "nbformat": 4,
 "nbformat_minor": 2
}