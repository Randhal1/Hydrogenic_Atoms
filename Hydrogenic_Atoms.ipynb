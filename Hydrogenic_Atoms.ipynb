{
 "cells": [
  {
   "cell_type": "code",
   "execution_count": null,
   "metadata": {
    "dotnet_interactive": {
     "language": "csharp"
    }
   },
   "outputs": [],
   "source": [
    "import matplotlib.pyplot as plt\r\n",
    "import scipy.constants as kn\r\n",
    "import numpy as np\r\n",
    "from sympy import symbols, cos, lambdify, diff, pi, factorial, exp\r\n",
    "from scipy.constants import physical_constants as pkn \r\n",
    "from sympy.abc import n, x, a, r, theta, phi\r\n",
    "from matplotlib import cm"
   ]
  },
  {
   "cell_type": "code",
   "execution_count": null,
   "metadata": {},
   "outputs": [],
   "source": [
    "n = 4           # The principal quantum number \r\n",
    "l = 1           # The angular momentum quantum number\r\n",
    "m = -1          # The magnetic momentum quantum number\r\n",
    "theta = pi/4    # Elevation angle\r\n",
    "phi = pi/4      # Azimuth angle"
   ]
  },
  {
   "cell_type": "code",
   "execution_count": null,
   "metadata": {},
   "outputs": [],
   "source": [
    "# Definitions \r\n",
    "# Constants \r\n",
    "a0 = pkn['Bohr radius'][0] # Bohr radius\r\n",
    "\r\n",
    "\r\n",
    "# Creating P_l(x)  corresponding to \r\n",
    "# Legendre Polynomials in the Rodrigues' form \r\n",
    "# Tested with page 47 of the Cambridge formulas book \r\n",
    "# It works\r\n",
    "def Plx(l,x):\r\n",
    "    return 1/(2**l*factorial(l))*diff((x**2-1)**l,x,l)\r\n",
    "\r\n",
    "\r\n",
    "# Creating P_l^m(x) corresponding to Associated Legendre functions\r\n",
    "# Tested with page 48 of the Cambridge formulas book # It works\r\n",
    "def Plmx_possitive_part(l,m,x,theta):\r\n",
    "    return ((-1)**m*(1-x**2)**(m/2)*diff(Plx(l,x),x,m)).subs(x,cos(theta))\r\n",
    "\r\n",
    "\r\n",
    "# The criteria behind use a conditional is \r\n",
    "# because i must be simmetrical \r\n",
    "# Adding (-1) ** m in these equations is \r\n",
    "# the same as put it in the total wavefunction\r\n",
    "def Plmx(l,m,x,theta):\r\n",
    "    if m >= 0:\r\n",
    "        return Plmx_possitive_part(l,m,x,theta)\r\n",
    "    if m < 0:\r\n",
    "        return (-1)**m*Plmx_possitive_part(l,abs(m),x,theta)\r\n",
    "\r\n",
    "\r\n",
    "# Associated Laguerre polynomial formula ## Correct Issue #1\r\n",
    "def Lab(n,l):\r\n",
    "    aux_laguerre=[]\r\n",
    "    for k in range(n-l):\r\n",
    "        L=(factorial(n+l)*(-x)**k)/(factorial(2*l+1+k)*factorial(n-l-1-k)*factorial(k))\r\n",
    "        aux_laguerre.append(L)\r\n",
    "    return sum(aux_laguerre)\r\n",
    "\r\n",
    "\r\n",
    "# Creating Y_l^m(theta,phi), corresponding to the \r\n",
    "# total angular contribution in the wavefunction\r\n",
    "# Remember (-1)**m was remove to the assoc Legendre Poly, \r\n",
    "# this way here is innecesary\r\n",
    "# Tested with page 49 of the Cambridge formulas book # It works\r\n",
    "def Ylm_theta_phi(l,m,x,theta,phi):\r\n",
    "    return ((2*l+1)/(4*pi)*factorial(l-abs(m))/factorial(l+abs(m)))**(1/2)*Plmx(l,m,x,theta)*exp(1j*m*phi)\r\n",
    "\r\n",
    "\r\n",
    "# Creating R_{nl}(r), being the total \r\n",
    "# radial contribution in the wavefunction\r\n",
    "# Tested using pages 49 and 96 and extracting the product \r\n",
    "# It works\r\n",
    "def Rnlr(n,l,x):\r\n",
    "    return (factorial(n-l-1)/(2*n*factorial(n+l)))**(1/2)*(2/(a*n))**(3/2)*x**l*exp(-x/2)*Lab(n,l)\r\n",
    "\r\n",
    " \r\n",
    "# The next function correspond to the whole wavefunction \r\n",
    "# Tested with page 96 of the Cambridge formulas book # It works\r\n",
    "def psi_nlm_theta_phi(n,l,m,x,theta,phi):\r\n",
    "    return Rnlr(n,l,x).subs(x,2*r/(n*a))*Ylm_theta_phi(l,m,x,theta,phi)\r\n",
    "\r\n",
    "\r\n",
    "def Psi(n,l,m):\r\n",
    "    return psi_nlm_theta_phi(n,l,m,x,theta,phi)"
   ]
  },
  {
   "cell_type": "code",
   "execution_count": null,
   "metadata": {
    "dotnet_interactive": {
     "language": "csharp"
    }
   },
   "outputs": [],
   "source": [
    "# Calculations\r\n",
    "# The wavefunction evaluation with the three quantum numbers\r\n",
    "psi = r*psi_nlm_theta_phi(n,l,m,x,theta,phi) \r\n",
    "\r\n",
    "# The complement of the wavefunction\r\n",
    "psi_comp = r*psi_nlm_theta_phi(n,l,-m,x,theta,phi) \r\n",
    "\r\n",
    "# The orbital form # It will be an if statement\r\n",
    "px = -1/2**0.5*(psi-psi_comp)\r\n",
    "\r\n",
    "# The resolution of the plots in points quantity\r\n",
    "res = 10000 \r\n",
    "\r\n",
    "# Calculations and evaluations of the functions\r\n",
    "psi = lambdify([r,a],psi,'numpy') \r\n",
    "px = lambdify([r,a],px, 'numpy') \r\n",
    "\r\n",
    "# The x-axis values\r\n",
    "rx = np.linspace(0,1.75e-8,res)\r\n",
    "\r\n",
    "# Function r*psi squared array eval\r\n",
    "psi_squared = abs(psi(rx,a0))**2 \r\n",
    "\r\n",
    "# Returns the max of the function\r\n",
    "loc_max = int(np.where(psi_squared == max(psi_squared))[0])  \r\n",
    "\r\n",
    "# returns the minimun value of the function forward the maximun\r\n",
    "loc_min_follow = int(np.where(psi_squared[loc_max:] < 1e5)[0][11]) \r\n",
    "loc_min = loc_max+loc_min_follow\r\n",
    "\r\n",
    "# Optimize functions limits\r\n",
    "rx = np.linspace(0,rx[loc_min],res)\r\n",
    "psi_squared = abs(psi(rx,a0))**2"
   ]
  },
  {
   "cell_type": "code",
   "execution_count": null,
   "metadata": {
    "dotnet_interactive": {
     "language": "csharp"
    }
   },
   "outputs": [],
   "source": [
    "# The color variation in these plots\r\n",
    "colors_psi = psi_squared/max(psi_squared)\r\n",
    "\r\n",
    "plt.figure(figsize = [18,15])\r\n",
    "\r\n",
    "# plt.subplot(212)\r\n",
    "plt.scatter(rx,psi_squared,c = colors_psi,\r\n",
    "            cmap = cm.viridis, marker = '.',\r\n",
    "            label = '$|\\psi_{%s %s %s}(\\\\theta,\\phi)|^2$'%(n,l,m))\r\n",
    "\r\n",
    "plt.ylim(0,max(psi_squared)*1.02)\r\n",
    "plt.xlim(0,rx[-1])\r\n",
    "plt.title('The squared wavefunction',size = 20)\r\n",
    "plt.xlabel('$r$',size = 20)\r\n",
    "plt.ylabel('$|\\psi_{nlm}(\\\\theta,\\phi)|^2$', size = 20)\r\n",
    "plt.legend(loc = 'best', prop = {'size': 18})\r\n",
    "plt.grid()\r\n",
    "\r\n",
    "# figname = 'psi_'+str(n)+str(l)+str(m)+'.jpg'\r\n",
    "# plt.savefig(figname, dpi = 1200)"
   ]
  },
  {
   "cell_type": "code",
   "execution_count": null,
   "metadata": {
    "dotnet_interactive": {
     "language": "csharp"
    }
   },
   "outputs": [],
   "source": [
    "res = 1000\r\n",
    "rx = np.linspace(0,rx[-1],res)\r\n",
    "psi_squared = abs(psi(rx,a0))**2\r\n",
    "upsiy = psi_squared*1 # Dulplicate the psi_y variable, so you can freely operate with this variable \r\n",
    "start = 100 #Determines minimun values\r\n",
    "rx2 = np.array([]) # Create an empty array to fill it with the desired quatinties of rx_i\r\n",
    "for k in range(start,res): # Choose start value equal 100 to reflect the nodal points of the wavefunction\r\n",
    "    aux1 = np.where(upsiy == max(upsiy))[0][0] #, u.append(k) #Enable when u is active\r\n",
    "    aux2 = np.ones(res+start-k)*rx[aux1]\r\n",
    "    rx2 = np.append(rx2,aux2)\r\n",
    "    upsiy[aux1] = 0"
   ]
  },
  {
   "cell_type": "code",
   "execution_count": null,
   "metadata": {
    "dotnet_interactive": {
     "language": "csharp"
    }
   },
   "outputs": [],
   "source": [
    "# Next step: pair those r values with random angles to pair with\r\n",
    "res2=100000 # Must be an integer\r\n",
    "polar_psi_r=np.array([])\r\n",
    "polar_psi_r=np.append(polar_psi_r,np.random.choice(rx2,res2))\r\n",
    "polar_psi_angle=np.linspace(-np.pi,np.pi,res2)\r\n"
   ]
  },
  {
   "cell_type": "code",
   "execution_count": null,
   "metadata": {
    "dotnet_interactive": {
     "language": "csharp"
    }
   },
   "outputs": [],
   "source": [
    "colors_psi=polar_psi_r/max(polar_psi_r)\r\n",
    "\r\n",
    "plt.figure(figsize=[20,20]).add_subplot(projection='polar')\r\n",
    "\r\n",
    "plt.scatter(polar_psi_angle,polar_psi_r,c=colors_psi,cmap=cm.viridis, marker='.')#, alpha=0.65)\r\n",
    "\r\n",
    "# figname = 'psi_'+str(n)+str(l)+str(m)+'_radial_prob.jpg'\r\n",
    "# plt.savefig(figname,dpi=1200)"
   ]
  },
  {
   "cell_type": "code",
   "execution_count": null,
   "metadata": {},
   "outputs": [],
   "source": [
    "res = 10000\r\n",
    "rx = np.linspace(0,8e-9,res)\r\n",
    "Px = px(rx,a0)\r\n",
    "Px2 = abs(Px)**2\r\n",
    "colors_px=abs(Px)/max(abs(Px)) \r\n",
    "\r\n",
    "plt.figure(figsize=[18,15])\r\n",
    "\r\n",
    "plt.subplot(221)\r\n",
    "# Plot of px\r\n",
    "plt.scatter(rx,np.real(Px),c=colors_px,cmap=cm.viridis, marker='.', label='Real part of: $P_x$')\r\n",
    "plt.xlim(0,rx[-1])\r\n",
    "plt.title('The wavefunction of hydrogen atom',size=20)\r\n",
    "plt.xlabel('$r$',size=20)\r\n",
    "plt.ylabel('$\\psi_{nlm}(\\\\theta,\\phi)$', size=20)\r\n",
    "plt.legend(loc='best', prop={'size': 18})\r\n",
    "plt.grid()\r\n",
    "\r\n",
    "plt.subplot(222)\r\n",
    "# Plot of px Imaginary part\r\n",
    "plt.scatter(rx,np.imag(Px),c=colors_px,cmap=cm.viridis, marker='.', label='Imaginary part of: $P_x$')\r\n",
    "plt.xlim(0,rx[-1])\r\n",
    "plt.title('The wavefunction of hydrogen atom',size=20)\r\n",
    "plt.xlabel('$r$',size=20)\r\n",
    "plt.ylabel('$\\psi_{nlm}(\\\\theta,\\phi)$', size=20)\r\n",
    "plt.legend(loc='best', prop={'size': 18})\r\n",
    "plt.grid()\r\n",
    "\r\n",
    "plt.subplot(212)\r\n",
    "# Plot of px squared\r\n",
    "plt.scatter(rx,np.real(Px2),c=colors_px,cmap=cm.viridis, marker='.', label='Whole wavefunction')\r\n",
    "plt.xlim(0,rx[-1])\r\n",
    "plt.title('The wavefunction of hydrogen atom',size=20)\r\n",
    "plt.xlabel('$r$',size=20)\r\n",
    "plt.ylabel('$\\psi_{nlm}(\\\\theta,\\phi)$', size=20)\r\n",
    "plt.legend(loc='best', prop={'size': 18})\r\n",
    "plt.grid()"
   ]
  },
  {
   "cell_type": "code",
   "execution_count": null,
   "metadata": {},
   "outputs": [],
   "source": [
    "res = 1000\r\n",
    "upx = Px*1 # Dulplicate the Px variable, so you can freely operate with this variable \r\n",
    "start = 100 #Determines minimun values\r\n",
    "rx3 = np.array([]) # Create an empty array to fill it with the desired quatinties of rx\r\n",
    "for k in range(start,res): # Choose start value equal 100 to reflect the nodal points of the wavefunction\r\n",
    "    aux1 = np.where(upx == max(upx))[0][0] #, u.append(k) #Enable when u is active\r\n",
    "    aux2 = np.ones(res+start-k)*rx[aux1]\r\n",
    "    rx3 = np.append(rx2,aux2)\r\n",
    "    upx[aux1] = 0\r\n"
   ]
  },
  {
   "cell_type": "code",
   "execution_count": null,
   "metadata": {},
   "outputs": [],
   "source": [
    "res3 = 10000 # Must be an integer\r\n",
    "polar_px_r = np.array([])\r\n",
    "polar_px_r = np.append(polar_psi_r,np.random.choice(rx3,res3))\r\n",
    "polar_px_angle = np.angle(polar_px_r)\r\n",
    "\r\n",
    "len(polar_px_r), len(polar_px_angle)"
   ]
  },
  {
   "cell_type": "code",
   "execution_count": null,
   "metadata": {},
   "outputs": [],
   "source": [
    "colors_px=polar_px_r/max(polar_px_r)\r\n",
    "plt.figure(figsize=[20,20]).add_subplot(projection='polar')\r\n",
    "plt.scatter(polar_px_angle,polar_px_r,c=colors_px,cmap=cm.viridis, marker='.')#, alpha=0.65)\r\n",
    "#plt.title('Atom', size=20)\r\n",
    "#plt.savefig('psi_71-1-cividis.jpg',dpi=300)"
   ]
  }
 ],
 "metadata": {
  "interpreter": {
   "hash": "f4a7967c3e0c00721ad4880dddf095fea1ad874a4e0560932aa1eea35cfa5fe6"
  },
  "kernelspec": {
   "display_name": "Python 3.8.5 64-bit ('base': conda)",
   "name": "python3"
  },
  "language_info": {
   "name": "python",
   "version": ""
  },
  "orig_nbformat": 2
 },
 "nbformat": 4,
 "nbformat_minor": 2
}