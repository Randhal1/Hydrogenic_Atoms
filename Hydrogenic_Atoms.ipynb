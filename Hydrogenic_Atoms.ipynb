{
 "cells": [
  {
   "cell_type": "code",
   "execution_count": null,
   "metadata": {
    "dotnet_interactive": {
     "language": "csharp"
    }
   },
   "outputs": [],
   "source": [
    "from sympy import symbols, cos, lambdify, diff, pi, factorial, exp\r\n",
    "# from sympy import oo, integrate, solve # For manual testing only\r\n",
    "import numpy as np\r\n",
    "import scipy.constants as kn\r\n",
    "from scipy.constants import physical_constants as pkn \r\n",
    "from scipy.constants import find # Just for find constants info at: scipy.org/scipy.constants.find\r\n",
    "import matplotlib.pyplot as plt\r\n",
    "from matplotlib import cm\r\n",
    "from sympy.abc import n, x, a, r, theta, phi\r\n",
    "import math\r\n"
   ]
  },
  {
   "cell_type": "code",
   "execution_count": null,
   "metadata": {
    "dotnet_interactive": {
     "language": "csharp"
    }
   },
   "outputs": [],
   "source": [
    "# Version 2 with performance in sympy module\r\n",
    "\r\n",
    "# Definitions level 1\r\n",
    "\r\n",
    "a0=pkn['Bohr radius'][0] # Bohr radius\r\n",
    "\r\n",
    "# Definitions level 2\r\n",
    "\r\n",
    "# Creating P_l(x)  corresponding to Legendre Polynomials in the Rodrigues' form \r\n",
    "def Plx(l,x):\r\n",
    "    return 1/(2**l*factorial(l))*diff((x**2-1)**l,x,l)\r\n",
    "\r\n",
    "# Tested with page 47 of the Cambridge formulas book # It works\r\n",
    "\r\n",
    "# Creating P_l^m(x) corresponding to Associated Legendre functions\r\n",
    "def Plmx_possitive_part(l,m,x,theta):\r\n",
    "    return ((-1)**m*(1-x**2)**(m/2)*diff(Plx(l,x),x,m)).subs(x,cos(theta))\r\n",
    "\r\n",
    "def Plmx(l,m,x,theta):\r\n",
    "    if m>=0:\r\n",
    "        return Plmx_possitive_part(l,m,x,theta)\r\n",
    "    if m<0:\r\n",
    "        return (-1)**m*Plmx_possitive_part(l,abs(m),x,theta)\r\n",
    "\r\n",
    "# Tested with page 48 of the Cambridge formulas book # It works\r\n",
    "\r\n",
    "# Associated Laguerre polynomial formula ## Correct Issue #1\r\n",
    "def Lab(n,l):\r\n",
    "    aux_legendre=[]\r\n",
    "    for k in range(n-l):\r\n",
    "        L=(factorial(n+l)*(-x)**k)/(factorial(2*l+1+k)*factorial(n-l-1-k)*factorial(k))\r\n",
    "        aux_legendre.append(L)\r\n",
    "    return sum(aux_legendre)\r\n",
    "# Creating Y_l^m(theta,phi), corresponding to the total angular contribution in the wavefunction\r\n",
    "def Ylm_theta_phi(l,m,x,theta,phi):\r\n",
    "    return ((2*l+1)/(4*pi)*factorial(l-abs(m))/factorial(l+abs(m)))**(1/2)*Plmx(l,m,x,theta)*exp(1j*m*phi)\r\n",
    "\r\n",
    "# Tested with page 49 of the Cambridge formulas book # It works\r\n",
    "\r\n",
    "# Creating R_{nl}(r), being the total radial contribution in the wavefunction\r\n",
    "def Rnlr(n,l,x):\r\n",
    "    return (factorial(n-l-1)/(2*n*factorial(n+l)))**(1/2)*(2/(a*n))**(3/2)*x**l*exp(-x/2)*Lab(n,l)\r\n",
    "\r\n",
    "# Tested using pages 49 and 96 and extracting the product # It works \r\n",
    "\r\n",
    "# Definitions level 4 \r\n",
    "\r\n",
    "# The next function correspond to the whole wavefunction \r\n",
    "def psi_nlm_theta_phi(n,l,m,x,theta,phi):\r\n",
    "    return Rnlr(n,l,x).subs(x,2*r/(n*a))*Ylm_theta_phi(l,m,x,theta,phi)\r\n",
    "\r\n",
    "def Psi(n,l,m):\r\n",
    "    return psi_nlm_theta_phi(n,l,m,x,theta,phi)\r\n",
    "\r\n",
    "# Tested with page 96 of the Cambridge formulas book # It works"
   ]
  },
  {
   "cell_type": "code",
   "execution_count": null,
   "metadata": {
    "dotnet_interactive": {
     "language": "csharp"
    }
   },
   "outputs": [],
   "source": [
    "psi_1=r*psi_nlm_theta_phi(2,0,0,x,pi/4,pi/6) # The wavefunction evaluation with the three quantum numbers"
   ]
  },
  {
   "cell_type": "code",
   "execution_count": null,
   "metadata": {
    "dotnet_interactive": {
     "language": "csharp"
    }
   },
   "outputs": [],
   "source": [
    "res=10000 ## The resolution of the plots\r\n",
    "psi=lambdify([r,a],psi_1,'numpy') # Integration of the given absolute squared value of wavefunction must be equal 1\r\n",
    "psi2=lambdify([r,a],psi_1/r,'numpy')\r\n",
    "psi_1"
   ]
  },
  {
   "cell_type": "code",
   "execution_count": null,
   "metadata": {
    "dotnet_interactive": {
     "language": "csharp"
    }
   },
   "outputs": [],
   "source": [
    "rx=np.linspace(0,1.75e-8,res) ## Creates a range of numbers considering n=10\r\n",
    "psi_y=psi(rx,a0) ## Function r*psi array eval\r\n",
    "loc_max=int(np.where(abs(psi_y)**2==max(abs(psi_y)**2))[0]) ## Returns the max of the function \r\n",
    "loc_min_follow=int(np.where(abs(psi_y[loc_max:])**2 < 1e6)[0][11]) ## returns the minimun value of the function after the maximun\r\n",
    "loc_min=loc_max+loc_min_follow\r\n",
    "#x_lim=rx[loc_min] # It has been used for locate the data between limits\r\n",
    "\r\n",
    "## Optimize functions limits\r\n",
    "\r\n",
    "rx=np.linspace(0,rx[loc_min],res)\r\n",
    "psi_y=abs(psi(rx,a0))**2 ## Function abs(r*psi)**2 array eval\r\n",
    "psi_y2=psi2(rx,a0) ## Function psi array eval"
   ]
  },
  {
   "cell_type": "code",
   "execution_count": null,
   "metadata": {
    "dotnet_interactive": {
     "language": "csharp"
    }
   },
   "outputs": [],
   "source": [
    "colors_psi=psi_y/max(psi_y) # The color variation in these plots\r\n",
    "\r\n",
    "plt.figure(figsize=[18,15])\r\n",
    "\r\n",
    "# Plot of psi\r\n",
    "plt.subplot(221)\r\n",
    "plt.scatter(rx,np.real(psi_y2),c=colors_psi,cmap=cm.viridis, marker='.', label='Real part of: $\\psi_{nlm}(\\\\theta,\\phi)$')\r\n",
    "#plt.ylim(1.02*min(psi_y2),1.02*max(psi_y2))\r\n",
    "plt.xlim(0,rx[-1])\r\n",
    "plt.title('The wavefunction of hydrogen atom',size=20)\r\n",
    "plt.xlabel('$r$',size=20)\r\n",
    "plt.ylabel('$\\psi_{nlm}(\\\\theta,\\phi)$', size=20)\r\n",
    "plt.legend(loc='best', prop={'size': 18})\r\n",
    "plt.grid()\r\n",
    "\r\n",
    "# Plot of psi\r\n",
    "plt.subplot(222)\r\n",
    "plt.scatter(rx,np.imag(psi_y2),c=colors_psi,cmap=cm.viridis, marker='.', label='Imaginary part of: $\\psi_{nlm}(\\\\theta,\\phi)$')\r\n",
    "#plt.ylim(1.02*min(psi_y2),1.02*max(psi_y2))\r\n",
    "plt.xlim(0,rx[-1])\r\n",
    "plt.title('The wavefunction of hydrogen atom',size=20)\r\n",
    "plt.xlabel('$r$',size=20)\r\n",
    "plt.ylabel('$\\psi_{nlm}(\\\\theta,\\phi)$', size=20)\r\n",
    "plt.legend(loc='best', prop={'size': 18})\r\n",
    "plt.grid()\r\n",
    "\r\n",
    "# Plot of abs(r*psi)**2\r\n",
    "plt.subplot(212)\r\n",
    "plt.scatter(rx,psi_y,c=colors_psi,cmap=cm.viridis, marker='.', label='$r^2|\\psi_{nlm}(\\\\theta,\\phi)|^2$')\r\n",
    "plt.ylim(0,max(psi_y)*1.02)\r\n",
    "plt.xlim(0,rx[-1])\r\n",
    "plt.title('The squared wavefunction of hydrogen atom',size=20)\r\n",
    "plt.xlabel('$r$',size=20)\r\n",
    "plt.ylabel('$r^2|\\psi_{nlm}(\\\\theta,\\phi)|^2$', size=20)\r\n",
    "plt.legend(loc='best', prop={'size': 18})\r\n",
    "plt.grid()\r\n",
    "\r\n",
    "## Remember to cange nlm in wavefunction\r\n",
    "## To save this plot enable this line\r\n",
    "## plt.savefig('psi_71-1.jpg', dpi=300)"
   ]
  },
  {
   "cell_type": "code",
   "execution_count": null,
   "metadata": {
    "dotnet_interactive": {
     "language": "csharp"
    }
   },
   "outputs": [],
   "source": [
    "# Warning: Code must be optimized 19/05/2021\r\n",
    "res=1000 # Due to resolution troubles a second stage of definition is needed 16/05/2021\r\n",
    "rx=np.linspace(0,1.75e-8,res) ## Creates a range of numbers considering n=10\r\n",
    "psi_y=psi(rx,a0) ## Function r*psi array eval\r\n",
    "loc_max=int(np.where(abs(psi_y)**2==max(abs(psi_y)**2))[0]) ## Returns the max of the function \r\n",
    "loc_min_follow=int(np.where(abs(psi_y[loc_max:])**2 < 1e6)[0][11]) ## returns the minimun value of the function after the maximun\r\n",
    "loc_min=loc_max+loc_min_follow\r\n",
    "#x_lim=rx[loc_min] # It has been used for locate the data between limits\r\n",
    "\r\n",
    "## Optimize functions limits\r\n",
    "\r\n",
    "rx=np.linspace(0,rx[loc_min],res)\r\n",
    "psi_y=abs(psi(rx,a0))**2 ## Function abs(r*psi)**2 array eval\r\n",
    "psi_y2=psi2(rx,a0) ## Function psi array eval"
   ]
  },
  {
   "cell_type": "code",
   "execution_count": null,
   "metadata": {
    "dotnet_interactive": {
     "language": "csharp"
    }
   },
   "outputs": [],
   "source": [
    "# Idea: Use skLearn or maybe other library to get the radial distribution\r\n",
    "# Solution: Nothing of this was needed, I solved this with matplotlib\r\n",
    "# Now I need an algorithm to link the probability of the wavefunction squared with the radius \r\n",
    "# For this I'll create 100 points in the maximun value, 99 points in the maximun less 1 value\r\n",
    "# 98 for the third and so on, afther that I need to make 100 positions for those values \r\n",
    "\r\n",
    "# This code is made for test the distribution set, because it can't get clear through other plots\r\n",
    "#plt.figure(figsize=[12,12])\r\n",
    "#plt.hist2d(rx2, rx2, bins=100)\r\n",
    "#plt.show()\r\n",
    "#u=[] # Control variable len(rx2), sum(u), (u[-1]+u[0])*len(u)/2, len(u), u[-1]+u[0]\r\n",
    "\r\n",
    "upsiy=psi_y*1 # Dulplicate the psi_y variable, so you can freely operate with this variable \r\n",
    "start=100 #Determines minimun values\r\n",
    "rx2=np.array([]) # Create an empty array to fill it with the desired quatinties of rx\r\n",
    "for k in range(start,res): # Choose start value equal 100 to reflect the nodal points of the wavefunction\r\n",
    "    aux1=np.where(upsiy == max(upsiy))[0][0] #, u.append(k) #Enable when u is active\r\n",
    "    aux2=np.ones(res+start-k)*rx[aux1]\r\n",
    "    rx2=np.append(rx2,aux2)\r\n",
    "    upsiy[aux1]=0\r\n",
    "\r\n",
    "## Check the difference between the lenght of the rx2 vector and the mathematical formula 15/05/2021\r\n",
    "## This difference is about 0.11% and not affect the code or its function\r\n",
    "## it is due lengt in vector \"u\" is 901 instead of 900\r\n"
   ]
  },
  {
   "cell_type": "code",
   "execution_count": null,
   "metadata": {
    "dotnet_interactive": {
     "language": "csharp"
    }
   },
   "outputs": [],
   "source": [
    "# Next step: pair those r values with random angles to pair with\r\n",
    "res2=100000 # Must be an integer\r\n",
    "polar_psi_r=np.array([])\r\n",
    "polar_psi_r=np.append(polar_psi_r,np.random.choice(rx2,res2))\r\n",
    "polar_psi_angle=np.linspace(-np.pi,np.pi,res2)\r\n"
   ]
  },
  {
   "cell_type": "code",
   "execution_count": null,
   "metadata": {
    "dotnet_interactive": {
     "language": "csharp"
    }
   },
   "outputs": [],
   "source": [
    "colors_psi=polar_psi_r/max(polar_psi_r)\r\n",
    "plt.figure(figsize=[20,20]).add_subplot(projection='polar')\r\n",
    "plt.scatter(polar_psi_angle,polar_psi_r,c=colors_psi,cmap=cm.viridis, marker='.')#, alpha=0.65)\r\n",
    "#plt.title('Atom', size=20)\r\n",
    "plt.savefig('psi_71-1-cividis.jpg',dpi=300)"
   ]
  },
  {
   "cell_type": "code",
   "execution_count": null,
   "metadata": {
    "dotnet_interactive": {
     "language": "csharp"
    }
   },
   "outputs": [],
   "source": []
  }
 ],
 "metadata": {
  "interpreter": {
   "hash": "f4a7967c3e0c00721ad4880dddf095fea1ad874a4e0560932aa1eea35cfa5fe6"
  },
  "kernelspec": {
   "display_name": "Python 3.8.5 64-bit ('base': conda)",
   "name": "python3"
  },
  "language_info": {
   "codemirror_mode": {
    "name": "ipython",
    "version": 3
   },
   "file_extension": ".py",
   "mimetype": "text/x-python",
   "name": "python",
   "nbconvert_exporter": "python",
   "pygments_lexer": "ipython3",
   "version": "3.8.5"
  },
  "orig_nbformat": 2
 },
 "nbformat": 4,
 "nbformat_minor": 2
}